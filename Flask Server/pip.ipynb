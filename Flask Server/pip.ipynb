{
 "cells": [
  {
   "cell_type": "code",
   "execution_count": 1,
   "metadata": {},
   "outputs": [
    {
     "name": "stdout",
     "output_type": "stream",
     "text": [
      "Collecting SocketIO\n",
      "  Downloading socketio-0.2.1.tar.gz (6.1 kB)\n",
      "Collecting setuptools==3.3\n",
      "  Downloading setuptools-3.3-py2.py3-none-any.whl (545 kB)\n",
      "Collecting netifaces==0.10.6\n",
      "  Downloading netifaces-0.10.6.tar.gz (25 kB)\n",
      "Building wheels for collected packages: SocketIO, netifaces\n",
      "  Building wheel for SocketIO (setup.py): started\n",
      "  Building wheel for SocketIO (setup.py): finished with status 'done'\n",
      "  Created wheel for SocketIO: filename=socketio-0.2.1-py3-none-any.whl size=7697 sha256=1faa306ade780ec83e3a113590b2d629d9aea397d9e28a9042426587f38b0d7b\n",
      "  Stored in directory: c:\\users\\abdelrhman yasser\\appdata\\local\\pip\\cache\\wheels\\42\\c4\\2f\\54212a81b51c5723b613a803b07f79db8f46d9611024a6ed9c\n",
      "  Building wheel for netifaces (setup.py): started\n",
      "  Building wheel for netifaces (setup.py): finished with status 'error'\n",
      "  Running setup.py clean for netifaces\n",
      "Successfully built SocketIO\n",
      "Failed to build netifaces\n",
      "Installing collected packages: setuptools, netifaces, SocketIO\n",
      "  Attempting uninstall: setuptools\n",
      "    Found existing installation: setuptools 58.2.0\n",
      "    Uninstalling setuptools-58.2.0:\n",
      "      Successfully uninstalled setuptools-58.2.0\n",
      "    Running setup.py install for netifaces: started\n",
      "    Running setup.py install for netifaces: finished with status 'error'\n",
      "Note: you may need to restart the kernel to use updated packages.\n"
     ]
    },
    {
     "name": "stderr",
     "output_type": "stream",
     "text": [
      "  ERROR: Command errored out with exit status 1:\n",
      "   command: 'c:\\Users\\Abdelrhman Yasser\\AppData\\Local\\Programs\\Python\\Python39\\python.exe' -u -c 'import sys, setuptools, tokenize; sys.argv[0] = '\"'\"'C:\\\\Users\\\\Abdelrhman Yasser\\\\AppData\\\\Local\\\\Temp\\\\pip-install-jc81ez04\\\\netifaces\\\\setup.py'\"'\"'; __file__='\"'\"'C:\\\\Users\\\\Abdelrhman Yasser\\\\AppData\\\\Local\\\\Temp\\\\pip-install-jc81ez04\\\\netifaces\\\\setup.py'\"'\"';f=getattr(tokenize, '\"'\"'open'\"'\"', open)(__file__);code=f.read().replace('\"'\"'\\r\\n'\"'\"', '\"'\"'\\n'\"'\"');f.close();exec(compile(code, __file__, '\"'\"'exec'\"'\"'))' bdist_wheel -d 'C:\\Users\\Abdelrhman Yasser\\AppData\\Local\\Temp\\pip-wheel-_1quxin_'\n",
      "       cwd: C:\\Users\\Abdelrhman Yasser\\AppData\\Local\\Temp\\pip-install-jc81ez04\\netifaces\\\n",
      "  Complete output (5 lines):\n",
      "  running bdist_wheel\n",
      "  running build\n",
      "  running build_ext\n",
      "  building 'netifaces' extension\n",
      "  error: Microsoft Visual C++ 14.0 or greater is required. Get it with \"Microsoft C++ Build Tools\": https://visualstudio.microsoft.com/visual-cpp-build-tools/\n",
      "  ----------------------------------------\n",
      "  ERROR: Failed building wheel for netifaces\n",
      "  WARNING: The scripts easy_install-3.9.exe and easy_install.exe are installed in 'c:\\Users\\Abdelrhman Yasser\\AppData\\Local\\Programs\\Python\\Python39\\Scripts' which is not on PATH.\n",
      "  Consider adding this directory to PATH or, if you prefer to suppress this warning, use --no-warn-script-location.\n",
      "    ERROR: Command errored out with exit status 1:\n",
      "     command: 'c:\\Users\\Abdelrhman Yasser\\AppData\\Local\\Programs\\Python\\Python39\\python.exe' -u -c 'import sys, setuptools, tokenize; sys.argv[0] = '\"'\"'C:\\\\Users\\\\Abdelrhman Yasser\\\\AppData\\\\Local\\\\Temp\\\\pip-install-jc81ez04\\\\netifaces\\\\setup.py'\"'\"'; __file__='\"'\"'C:\\\\Users\\\\Abdelrhman Yasser\\\\AppData\\\\Local\\\\Temp\\\\pip-install-jc81ez04\\\\netifaces\\\\setup.py'\"'\"';f=getattr(tokenize, '\"'\"'open'\"'\"', open)(__file__);code=f.read().replace('\"'\"'\\r\\n'\"'\"', '\"'\"'\\n'\"'\"');f.close();exec(compile(code, __file__, '\"'\"'exec'\"'\"'))' install --record 'C:\\Users\\Abdelrhman Yasser\\AppData\\Local\\Temp\\pip-record-peu70sit\\install-record.txt' --single-version-externally-managed --compile --install-headers 'c:\\Users\\Abdelrhman Yasser\\AppData\\Local\\Programs\\Python\\Python39\\Include\\netifaces'\n",
      "         cwd: C:\\Users\\Abdelrhman Yasser\\AppData\\Local\\Temp\\pip-install-jc81ez04\\netifaces\\\n",
      "    Complete output (11 lines):\n",
      "    Traceback (most recent call last):\n",
      "      File \"<string>\", line 1, in <module>\n",
      "      File \"c:\\Users\\Abdelrhman Yasser\\AppData\\Local\\Programs\\Python\\Python39\\lib\\site-packages\\setuptools\\__init__.py\", line 12, in <module>\n",
      "        from setuptools.extension import Extension\n",
      "      File \"c:\\Users\\Abdelrhman Yasser\\AppData\\Local\\Programs\\Python\\Python39\\lib\\site-packages\\setuptools\\extension.py\", line 7, in <module>\n",
      "        from setuptools.dist import _get_unpatched\n",
      "      File \"c:\\Users\\Abdelrhman Yasser\\AppData\\Local\\Programs\\Python\\Python39\\lib\\site-packages\\setuptools\\dist.py\", line 16, in <module>\n",
      "        import pkg_resources\n",
      "      File \"c:\\Users\\Abdelrhman Yasser\\AppData\\Local\\Programs\\Python\\Python39\\lib\\site-packages\\pkg_resources.py\", line 1479, in <module>\n",
      "        register_loader_type(importlib_bootstrap.SourceFileLoader, DefaultProvider)\n",
      "    AttributeError: module 'importlib._bootstrap' has no attribute 'SourceFileLoader'\n",
      "    ----------------------------------------\n",
      "ERROR: Command errored out with exit status 1: 'c:\\Users\\Abdelrhman Yasser\\AppData\\Local\\Programs\\Python\\Python39\\python.exe' -u -c 'import sys, setuptools, tokenize; sys.argv[0] = '\"'\"'C:\\\\Users\\\\Abdelrhman Yasser\\\\AppData\\\\Local\\\\Temp\\\\pip-install-jc81ez04\\\\netifaces\\\\setup.py'\"'\"'; __file__='\"'\"'C:\\\\Users\\\\Abdelrhman Yasser\\\\AppData\\\\Local\\\\Temp\\\\pip-install-jc81ez04\\\\netifaces\\\\setup.py'\"'\"';f=getattr(tokenize, '\"'\"'open'\"'\"', open)(__file__);code=f.read().replace('\"'\"'\\r\\n'\"'\"', '\"'\"'\\n'\"'\"');f.close();exec(compile(code, __file__, '\"'\"'exec'\"'\"'))' install --record 'C:\\Users\\Abdelrhman Yasser\\AppData\\Local\\Temp\\pip-record-peu70sit\\install-record.txt' --single-version-externally-managed --compile --install-headers 'c:\\Users\\Abdelrhman Yasser\\AppData\\Local\\Programs\\Python\\Python39\\Include\\netifaces' Check the logs for full command output.\n"
     ]
    }
   ],
   "source": [
    "pip install SocketIO"
   ]
  },
  {
   "cell_type": "code",
   "execution_count": 3,
   "metadata": {},
   "outputs": [
    {
     "name": "stdout",
     "output_type": "stream",
     "text": [
      "Requirement already satisfied: flask in c:\\users\\abdelrhman yasser\\appdata\\local\\programs\\python\\python39\\lib\\site-packages (2.2.3)\n",
      "Requirement already satisfied: click>=8.0 in c:\\users\\abdelrhman yasser\\appdata\\local\\programs\\python\\python39\\lib\\site-packages (from flask) (8.1.3)\n",
      "Requirement already satisfied: itsdangerous>=2.0 in c:\\users\\abdelrhman yasser\\appdata\\local\\programs\\python\\python39\\lib\\site-packages (from flask) (2.1.2)\n",
      "Requirement already satisfied: Jinja2>=3.0 in c:\\users\\abdelrhman yasser\\appdata\\local\\programs\\python\\python39\\lib\\site-packages (from flask) (3.1.2)\n",
      "Requirement already satisfied: importlib-metadata>=3.6.0; python_version < \"3.10\" in c:\\users\\abdelrhman yasser\\appdata\\local\\programs\\python\\python39\\lib\\site-packages (from flask) (5.2.0)\n",
      "Requirement already satisfied: Werkzeug>=2.2.2 in c:\\users\\abdelrhman yasser\\appdata\\local\\programs\\python\\python39\\lib\\site-packages (from flask) (2.2.2)\n",
      "Requirement already satisfied: colorama; platform_system == \"Windows\" in c:\\users\\abdelrhman yasser\\appdata\\roaming\\python\\python39\\site-packages (from click>=8.0->flask) (0.4.6)\n",
      "Requirement already satisfied: MarkupSafe>=2.0 in c:\\users\\abdelrhman yasser\\appdata\\local\\programs\\python\\python39\\lib\\site-packages (from Jinja2>=3.0->flask) (2.1.1)\n",
      "Requirement already satisfied: zipp>=0.5 in c:\\users\\abdelrhman yasser\\appdata\\local\\programs\\python\\python39\\lib\\site-packages (from importlib-metadata>=3.6.0; python_version < \"3.10\"->flask) (3.11.0)\n",
      "Note: you may need to restart the kernel to use updated packages.\n"
     ]
    }
   ],
   "source": [
    "pip install flask"
   ]
  },
  {
   "cell_type": "code",
   "execution_count": null,
   "metadata": {},
   "outputs": [],
   "source": []
  },
  {
   "cell_type": "code",
   "execution_count": 4,
   "metadata": {},
   "outputs": [
    {
     "name": "stdout",
     "output_type": "stream",
     "text": [
      "Collecting flask_socketio\n",
      "  Downloading Flask_SocketIO-5.3.6-py3-none-any.whl (18 kB)\n",
      "Collecting python-socketio>=5.0.2\n",
      "  Downloading python_socketio-5.11.1-py3-none-any.whl (75 kB)\n",
      "Requirement already satisfied: Flask>=0.9 in c:\\users\\abdelrhman yasser\\appdata\\local\\programs\\python\\python39\\lib\\site-packages (from flask_socketio) (2.2.3)\n",
      "Collecting bidict>=0.21.0\n",
      "  Downloading bidict-0.23.1-py3-none-any.whl (32 kB)\n",
      "Collecting python-engineio>=4.8.0\n",
      "  Downloading python_engineio-4.9.0-py3-none-any.whl (57 kB)\n",
      "Requirement already satisfied: Werkzeug>=2.2.2 in c:\\users\\abdelrhman yasser\\appdata\\local\\programs\\python\\python39\\lib\\site-packages (from Flask>=0.9->flask_socketio) (2.2.2)\n",
      "Requirement already satisfied: importlib-metadata>=3.6.0; python_version < \"3.10\" in c:\\users\\abdelrhman yasser\\appdata\\local\\programs\\python\\python39\\lib\\site-packages (from Flask>=0.9->flask_socketio) (5.2.0)\n",
      "Requirement already satisfied: itsdangerous>=2.0 in c:\\users\\abdelrhman yasser\\appdata\\local\\programs\\python\\python39\\lib\\site-packages (from Flask>=0.9->flask_socketio) (2.1.2)\n",
      "Requirement already satisfied: click>=8.0 in c:\\users\\abdelrhman yasser\\appdata\\local\\programs\\python\\python39\\lib\\site-packages (from Flask>=0.9->flask_socketio) (8.1.3)\n",
      "Requirement already satisfied: Jinja2>=3.0 in c:\\users\\abdelrhman yasser\\appdata\\local\\programs\\python\\python39\\lib\\site-packages (from Flask>=0.9->flask_socketio) (3.1.2)\n",
      "Collecting simple-websocket>=0.10.0\n",
      "  Downloading simple_websocket-1.0.0-py3-none-any.whl (13 kB)\n",
      "Requirement already satisfied: MarkupSafe>=2.1.1 in c:\\users\\abdelrhman yasser\\appdata\\local\\programs\\python\\python39\\lib\\site-packages (from Werkzeug>=2.2.2->Flask>=0.9->flask_socketio) (2.1.1)\n",
      "Requirement already satisfied: zipp>=0.5 in c:\\users\\abdelrhman yasser\\appdata\\local\\programs\\python\\python39\\lib\\site-packages (from importlib-metadata>=3.6.0; python_version < \"3.10\"->Flask>=0.9->flask_socketio) (3.11.0)\n",
      "Requirement already satisfied: colorama; platform_system == \"Windows\" in c:\\users\\abdelrhman yasser\\appdata\\roaming\\python\\python39\\site-packages (from click>=8.0->Flask>=0.9->flask_socketio) (0.4.6)\n",
      "Collecting wsproto\n",
      "  Downloading wsproto-1.2.0-py3-none-any.whl (24 kB)\n",
      "Collecting h11<1,>=0.9.0\n",
      "  Downloading h11-0.14.0-py3-none-any.whl (58 kB)\n",
      "Installing collected packages: bidict, h11, wsproto, simple-websocket, python-engineio, python-socketio, flask-socketio\n",
      "Successfully installed bidict-0.23.1 flask-socketio-5.3.6 h11-0.14.0 python-engineio-4.9.0 python-socketio-5.11.1 simple-websocket-1.0.0 wsproto-1.2.0\n",
      "Note: you may need to restart the kernel to use updated packages.\n"
     ]
    }
   ],
   "source": [
    "pip install flask_socketio"
   ]
  },
  {
   "cell_type": "code",
   "execution_count": 5,
   "metadata": {},
   "outputs": [
    {
     "name": "stdout",
     "output_type": "stream",
     "text": [
      "Collecting flask_socketsNote: you may need to restart the kernel to use updated packages.\n",
      "\n",
      "  Downloading Flask_Sockets-0.2.1-py2.py3-none-any.whl (3.8 kB)\n",
      "Collecting gevent\n",
      "  Downloading gevent-24.2.1-cp39-cp39-win_amd64.whl (1.5 MB)\n",
      "Requirement already satisfied: Flask in c:\\users\\abdelrhman yasser\\appdata\\local\\programs\\python\\python39\\lib\\site-packages (from flask_sockets) (2.2.3)\n",
      "Collecting gevent-websocket\n",
      "  Downloading gevent_websocket-0.10.1-py3-none-any.whl (22 kB)\n",
      "Collecting zope.event\n",
      "  Downloading zope.event-5.0-py3-none-any.whl (6.8 kB)\n",
      "Requirement already satisfied: cffi>=1.12.2; platform_python_implementation == \"CPython\" and sys_platform == \"win32\" in c:\\users\\abdelrhman yasser\\appdata\\local\\programs\\python\\python39\\lib\\site-packages (from gevent->flask_sockets) (1.15.1)\n",
      "Collecting greenlet>=2.0.0; platform_python_implementation == \"CPython\" and python_version < \"3.11\"\n",
      "  Downloading greenlet-3.0.3-cp39-cp39-win_amd64.whl (290 kB)\n",
      "Collecting zope.interface\n",
      "  Downloading zope.interface-6.2-cp39-cp39-win_amd64.whl (204 kB)\n",
      "Requirement already satisfied: itsdangerous>=2.0 in c:\\users\\abdelrhman yasser\\appdata\\local\\programs\\python\\python39\\lib\\site-packages (from Flask->flask_sockets) (2.1.2)\n",
      "Requirement already satisfied: importlib-metadata>=3.6.0; python_version < \"3.10\" in c:\\users\\abdelrhman yasser\\appdata\\local\\programs\\python\\python39\\lib\\site-packages (from Flask->flask_sockets) (5.2.0)\n",
      "Requirement already satisfied: Werkzeug>=2.2.2 in c:\\users\\abdelrhman yasser\\appdata\\local\\programs\\python\\python39\\lib\\site-packages (from Flask->flask_sockets) (2.2.2)\n",
      "Requirement already satisfied: click>=8.0 in c:\\users\\abdelrhman yasser\\appdata\\local\\programs\\python\\python39\\lib\\site-packages (from Flask->flask_sockets) (8.1.3)\n",
      "Requirement already satisfied: Jinja2>=3.0 in c:\\users\\abdelrhman yasser\\appdata\\local\\programs\\python\\python39\\lib\\site-packages (from Flask->flask_sockets) (3.1.2)\n",
      "Requirement already satisfied: setuptools in c:\\users\\abdelrhman yasser\\appdata\\local\\programs\\python\\python39\\lib\\site-packages (from zope.event->gevent->flask_sockets) (3.3)\n",
      "Requirement already satisfied: pycparser in c:\\users\\abdelrhman yasser\\appdata\\local\\programs\\python\\python39\\lib\\site-packages (from cffi>=1.12.2; platform_python_implementation == \"CPython\" and sys_platform == \"win32\"->gevent->flask_sockets) (2.21)\n",
      "Requirement already satisfied: zipp>=0.5 in c:\\users\\abdelrhman yasser\\appdata\\local\\programs\\python\\python39\\lib\\site-packages (from importlib-metadata>=3.6.0; python_version < \"3.10\"->Flask->flask_sockets) (3.11.0)\n",
      "Requirement already satisfied: MarkupSafe>=2.1.1 in c:\\users\\abdelrhman yasser\\appdata\\local\\programs\\python\\python39\\lib\\site-packages (from Werkzeug>=2.2.2->Flask->flask_sockets) (2.1.1)\n",
      "Requirement already satisfied: colorama; platform_system == \"Windows\" in c:\\users\\abdelrhman yasser\\appdata\\roaming\\python\\python39\\site-packages (from click>=8.0->Flask->flask_sockets) (0.4.6)\n",
      "Installing collected packages: zope.event, greenlet, zope.interface, gevent, gevent-websocket, flask-sockets\n",
      "Successfully installed flask-sockets-0.2.1 gevent-24.2.1 gevent-websocket-0.10.1 greenlet-3.0.3 zope.event-5.0 zope.interface-6.2\n"
     ]
    }
   ],
   "source": [
    "pip install flask_sockets"
   ]
  },
  {
   "cell_type": "code",
   "execution_count": null,
   "metadata": {},
   "outputs": [],
   "source": []
  }
 ],
 "metadata": {
  "kernelspec": {
   "display_name": "Python 3",
   "language": "python",
   "name": "python3"
  },
  "language_info": {
   "codemirror_mode": {
    "name": "ipython",
    "version": 3
   },
   "file_extension": ".py",
   "mimetype": "text/x-python",
   "name": "python",
   "nbconvert_exporter": "python",
   "pygments_lexer": "ipython3",
   "version": "3.9.0"
  }
 },
 "nbformat": 4,
 "nbformat_minor": 2
}
